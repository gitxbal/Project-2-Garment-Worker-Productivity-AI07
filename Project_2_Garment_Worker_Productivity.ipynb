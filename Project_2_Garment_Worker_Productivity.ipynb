{
  "nbformat": 4,
  "nbformat_minor": 0,
  "metadata": {
    "colab": {
      "name": "Project 2_Garment Worker Productivity.ipynb",
      "provenance": [],
      "collapsed_sections": []
    },
    "kernelspec": {
      "name": "python3",
      "display_name": "Python 3"
    },
    "language_info": {
      "name": "python"
    },
    "gpuClass": "standard"
  },
  "cells": [
    {
      "cell_type": "code",
      "source": [
        "from google.colab import drive\n",
        "drive.mount('/content/gdrive')"
      ],
      "metadata": {
        "colab": {
          "base_uri": "https://localhost:8080/"
        },
        "id": "LeSfMHNZkTkv",
        "outputId": "2dd4df80-41ac-407b-953c-bb3382236a05"
      },
      "execution_count": 1,
      "outputs": [
        {
          "output_type": "stream",
          "name": "stdout",
          "text": [
            "Mounted at /content/gdrive\n"
          ]
        }
      ]
    },
    {
      "cell_type": "code",
      "execution_count": 20,
      "metadata": {
        "id": "3cq4kgYLyGs2"
      },
      "outputs": [],
      "source": [
        "#1. Import packages\n",
        "import numpy as np\n",
        "import pandas as pd\n",
        "import seaborn as sns\n",
        "import matplotlib.pyplot as plt\n",
        "import tensorflow as tf\n",
        "from tensorflow import keras\n",
        "from tensorflow.keras import layers\n",
        "import sklearn.datasets as skdatasets\n",
        "from sklearn.model_selection import train_test_split\n",
        "from sklearn.preprocessing import StandardScaler\n",
        "from sklearn.impute import SimpleImputer\n",
        "from sklearn.linear_model import Ridge\n",
        "from sklearn.feature_selection import RFE\n",
        "from sklearn import metrics\n",
        "from sklearn.linear_model import Ridge, Lasso"
      ]
    },
    {
      "cell_type": "code",
      "source": [
        "#2. Load the csv data\n",
        "file_path = \"/content/gdrive/MyDrive/Colab Notebooks/garments_worker_productivity.csv\"\n",
        "data = pd.read_csv(file_path)\n",
        "data.head()"
      ],
      "metadata": {
        "colab": {
          "base_uri": "https://localhost:8080/",
          "height": 270
        },
        "id": "osqm2AAjkBhW",
        "outputId": "ca66d86a-bf4a-43b4-92a9-9200e7108839"
      },
      "execution_count": 21,
      "outputs": [
        {
          "output_type": "execute_result",
          "data": {
            "text/plain": [
              "       date   quarter department       day  team  targeted_productivity  \\\n",
              "0  1/1/2015  Quarter1     sweing  Thursday     8                   0.80   \n",
              "1  1/1/2015  Quarter1  finishing  Thursday     1                   0.75   \n",
              "2  1/1/2015  Quarter1     sweing  Thursday    11                   0.80   \n",
              "3  1/1/2015  Quarter1     sweing  Thursday    12                   0.80   \n",
              "4  1/1/2015  Quarter1     sweing  Thursday     6                   0.80   \n",
              "\n",
              "     smv     wip  over_time  incentive  idle_time  idle_men  \\\n",
              "0  26.16  1108.0       7080         98        0.0         0   \n",
              "1   3.94     NaN        960          0        0.0         0   \n",
              "2  11.41   968.0       3660         50        0.0         0   \n",
              "3  11.41   968.0       3660         50        0.0         0   \n",
              "4  25.90  1170.0       1920         50        0.0         0   \n",
              "\n",
              "   no_of_style_change  no_of_workers  actual_productivity  \n",
              "0                   0           59.0             0.940725  \n",
              "1                   0            8.0             0.886500  \n",
              "2                   0           30.5             0.800570  \n",
              "3                   0           30.5             0.800570  \n",
              "4                   0           56.0             0.800382  "
            ],
            "text/html": [
              "\n",
              "  <div id=\"df-2dfbf548-9f6a-4056-a6d6-12f16e7cb21c\">\n",
              "    <div class=\"colab-df-container\">\n",
              "      <div>\n",
              "<style scoped>\n",
              "    .dataframe tbody tr th:only-of-type {\n",
              "        vertical-align: middle;\n",
              "    }\n",
              "\n",
              "    .dataframe tbody tr th {\n",
              "        vertical-align: top;\n",
              "    }\n",
              "\n",
              "    .dataframe thead th {\n",
              "        text-align: right;\n",
              "    }\n",
              "</style>\n",
              "<table border=\"1\" class=\"dataframe\">\n",
              "  <thead>\n",
              "    <tr style=\"text-align: right;\">\n",
              "      <th></th>\n",
              "      <th>date</th>\n",
              "      <th>quarter</th>\n",
              "      <th>department</th>\n",
              "      <th>day</th>\n",
              "      <th>team</th>\n",
              "      <th>targeted_productivity</th>\n",
              "      <th>smv</th>\n",
              "      <th>wip</th>\n",
              "      <th>over_time</th>\n",
              "      <th>incentive</th>\n",
              "      <th>idle_time</th>\n",
              "      <th>idle_men</th>\n",
              "      <th>no_of_style_change</th>\n",
              "      <th>no_of_workers</th>\n",
              "      <th>actual_productivity</th>\n",
              "    </tr>\n",
              "  </thead>\n",
              "  <tbody>\n",
              "    <tr>\n",
              "      <th>0</th>\n",
              "      <td>1/1/2015</td>\n",
              "      <td>Quarter1</td>\n",
              "      <td>sweing</td>\n",
              "      <td>Thursday</td>\n",
              "      <td>8</td>\n",
              "      <td>0.80</td>\n",
              "      <td>26.16</td>\n",
              "      <td>1108.0</td>\n",
              "      <td>7080</td>\n",
              "      <td>98</td>\n",
              "      <td>0.0</td>\n",
              "      <td>0</td>\n",
              "      <td>0</td>\n",
              "      <td>59.0</td>\n",
              "      <td>0.940725</td>\n",
              "    </tr>\n",
              "    <tr>\n",
              "      <th>1</th>\n",
              "      <td>1/1/2015</td>\n",
              "      <td>Quarter1</td>\n",
              "      <td>finishing</td>\n",
              "      <td>Thursday</td>\n",
              "      <td>1</td>\n",
              "      <td>0.75</td>\n",
              "      <td>3.94</td>\n",
              "      <td>NaN</td>\n",
              "      <td>960</td>\n",
              "      <td>0</td>\n",
              "      <td>0.0</td>\n",
              "      <td>0</td>\n",
              "      <td>0</td>\n",
              "      <td>8.0</td>\n",
              "      <td>0.886500</td>\n",
              "    </tr>\n",
              "    <tr>\n",
              "      <th>2</th>\n",
              "      <td>1/1/2015</td>\n",
              "      <td>Quarter1</td>\n",
              "      <td>sweing</td>\n",
              "      <td>Thursday</td>\n",
              "      <td>11</td>\n",
              "      <td>0.80</td>\n",
              "      <td>11.41</td>\n",
              "      <td>968.0</td>\n",
              "      <td>3660</td>\n",
              "      <td>50</td>\n",
              "      <td>0.0</td>\n",
              "      <td>0</td>\n",
              "      <td>0</td>\n",
              "      <td>30.5</td>\n",
              "      <td>0.800570</td>\n",
              "    </tr>\n",
              "    <tr>\n",
              "      <th>3</th>\n",
              "      <td>1/1/2015</td>\n",
              "      <td>Quarter1</td>\n",
              "      <td>sweing</td>\n",
              "      <td>Thursday</td>\n",
              "      <td>12</td>\n",
              "      <td>0.80</td>\n",
              "      <td>11.41</td>\n",
              "      <td>968.0</td>\n",
              "      <td>3660</td>\n",
              "      <td>50</td>\n",
              "      <td>0.0</td>\n",
              "      <td>0</td>\n",
              "      <td>0</td>\n",
              "      <td>30.5</td>\n",
              "      <td>0.800570</td>\n",
              "    </tr>\n",
              "    <tr>\n",
              "      <th>4</th>\n",
              "      <td>1/1/2015</td>\n",
              "      <td>Quarter1</td>\n",
              "      <td>sweing</td>\n",
              "      <td>Thursday</td>\n",
              "      <td>6</td>\n",
              "      <td>0.80</td>\n",
              "      <td>25.90</td>\n",
              "      <td>1170.0</td>\n",
              "      <td>1920</td>\n",
              "      <td>50</td>\n",
              "      <td>0.0</td>\n",
              "      <td>0</td>\n",
              "      <td>0</td>\n",
              "      <td>56.0</td>\n",
              "      <td>0.800382</td>\n",
              "    </tr>\n",
              "  </tbody>\n",
              "</table>\n",
              "</div>\n",
              "      <button class=\"colab-df-convert\" onclick=\"convertToInteractive('df-2dfbf548-9f6a-4056-a6d6-12f16e7cb21c')\"\n",
              "              title=\"Convert this dataframe to an interactive table.\"\n",
              "              style=\"display:none;\">\n",
              "        \n",
              "  <svg xmlns=\"http://www.w3.org/2000/svg\" height=\"24px\"viewBox=\"0 0 24 24\"\n",
              "       width=\"24px\">\n",
              "    <path d=\"M0 0h24v24H0V0z\" fill=\"none\"/>\n",
              "    <path d=\"M18.56 5.44l.94 2.06.94-2.06 2.06-.94-2.06-.94-.94-2.06-.94 2.06-2.06.94zm-11 1L8.5 8.5l.94-2.06 2.06-.94-2.06-.94L8.5 2.5l-.94 2.06-2.06.94zm10 10l.94 2.06.94-2.06 2.06-.94-2.06-.94-.94-2.06-.94 2.06-2.06.94z\"/><path d=\"M17.41 7.96l-1.37-1.37c-.4-.4-.92-.59-1.43-.59-.52 0-1.04.2-1.43.59L10.3 9.45l-7.72 7.72c-.78.78-.78 2.05 0 2.83L4 21.41c.39.39.9.59 1.41.59.51 0 1.02-.2 1.41-.59l7.78-7.78 2.81-2.81c.8-.78.8-2.07 0-2.86zM5.41 20L4 18.59l7.72-7.72 1.47 1.35L5.41 20z\"/>\n",
              "  </svg>\n",
              "      </button>\n",
              "      \n",
              "  <style>\n",
              "    .colab-df-container {\n",
              "      display:flex;\n",
              "      flex-wrap:wrap;\n",
              "      gap: 12px;\n",
              "    }\n",
              "\n",
              "    .colab-df-convert {\n",
              "      background-color: #E8F0FE;\n",
              "      border: none;\n",
              "      border-radius: 50%;\n",
              "      cursor: pointer;\n",
              "      display: none;\n",
              "      fill: #1967D2;\n",
              "      height: 32px;\n",
              "      padding: 0 0 0 0;\n",
              "      width: 32px;\n",
              "    }\n",
              "\n",
              "    .colab-df-convert:hover {\n",
              "      background-color: #E2EBFA;\n",
              "      box-shadow: 0px 1px 2px rgba(60, 64, 67, 0.3), 0px 1px 3px 1px rgba(60, 64, 67, 0.15);\n",
              "      fill: #174EA6;\n",
              "    }\n",
              "\n",
              "    [theme=dark] .colab-df-convert {\n",
              "      background-color: #3B4455;\n",
              "      fill: #D2E3FC;\n",
              "    }\n",
              "\n",
              "    [theme=dark] .colab-df-convert:hover {\n",
              "      background-color: #434B5C;\n",
              "      box-shadow: 0px 1px 3px 1px rgba(0, 0, 0, 0.15);\n",
              "      filter: drop-shadow(0px 1px 2px rgba(0, 0, 0, 0.3));\n",
              "      fill: #FFFFFF;\n",
              "    }\n",
              "  </style>\n",
              "\n",
              "      <script>\n",
              "        const buttonEl =\n",
              "          document.querySelector('#df-2dfbf548-9f6a-4056-a6d6-12f16e7cb21c button.colab-df-convert');\n",
              "        buttonEl.style.display =\n",
              "          google.colab.kernel.accessAllowed ? 'block' : 'none';\n",
              "\n",
              "        async function convertToInteractive(key) {\n",
              "          const element = document.querySelector('#df-2dfbf548-9f6a-4056-a6d6-12f16e7cb21c');\n",
              "          const dataTable =\n",
              "            await google.colab.kernel.invokeFunction('convertToInteractive',\n",
              "                                                     [key], {});\n",
              "          if (!dataTable) return;\n",
              "\n",
              "          const docLinkHtml = 'Like what you see? Visit the ' +\n",
              "            '<a target=\"_blank\" href=https://colab.research.google.com/notebooks/data_table.ipynb>data table notebook</a>'\n",
              "            + ' to learn more about interactive tables.';\n",
              "          element.innerHTML = '';\n",
              "          dataTable['output_type'] = 'display_data';\n",
              "          await google.colab.output.renderOutput(dataTable, element);\n",
              "          const docLink = document.createElement('div');\n",
              "          docLink.innerHTML = docLinkHtml;\n",
              "          element.appendChild(docLink);\n",
              "        }\n",
              "      </script>\n",
              "    </div>\n",
              "  </div>\n",
              "  "
            ]
          },
          "metadata": {},
          "execution_count": 21
        }
      ]
    },
    {
      "cell_type": "code",
      "source": [
        "print(data.info())"
      ],
      "metadata": {
        "colab": {
          "base_uri": "https://localhost:8080/"
        },
        "id": "1-CtSWbYmZgW",
        "outputId": "2e9dae6d-a1b6-4834-d80e-ea5e43e41124"
      },
      "execution_count": 22,
      "outputs": [
        {
          "output_type": "stream",
          "name": "stdout",
          "text": [
            "<class 'pandas.core.frame.DataFrame'>\n",
            "RangeIndex: 1197 entries, 0 to 1196\n",
            "Data columns (total 15 columns):\n",
            " #   Column                 Non-Null Count  Dtype  \n",
            "---  ------                 --------------  -----  \n",
            " 0   date                   1197 non-null   object \n",
            " 1   quarter                1197 non-null   object \n",
            " 2   department             1197 non-null   object \n",
            " 3   day                    1197 non-null   object \n",
            " 4   team                   1197 non-null   int64  \n",
            " 5   targeted_productivity  1197 non-null   float64\n",
            " 6   smv                    1197 non-null   float64\n",
            " 7   wip                    691 non-null    float64\n",
            " 8   over_time              1197 non-null   int64  \n",
            " 9   incentive              1197 non-null   int64  \n",
            " 10  idle_time              1197 non-null   float64\n",
            " 11  idle_men               1197 non-null   int64  \n",
            " 12  no_of_style_change     1197 non-null   int64  \n",
            " 13  no_of_workers          1197 non-null   float64\n",
            " 14  actual_productivity    1197 non-null   float64\n",
            "dtypes: float64(6), int64(5), object(4)\n",
            "memory usage: 140.4+ KB\n",
            "None\n"
          ]
        }
      ]
    },
    {
      "cell_type": "code",
      "source": [
        "print(data.describe())"
      ],
      "metadata": {
        "colab": {
          "base_uri": "https://localhost:8080/"
        },
        "id": "0Zdzpkm0m1-n",
        "outputId": "7b1dcf8e-b57d-462f-9272-de19261d7264"
      },
      "execution_count": 23,
      "outputs": [
        {
          "output_type": "stream",
          "name": "stdout",
          "text": [
            "              team  targeted_productivity          smv           wip  \\\n",
            "count  1197.000000            1197.000000  1197.000000    691.000000   \n",
            "mean      6.426901               0.729632    15.062172   1190.465991   \n",
            "std       3.463963               0.097891    10.943219   1837.455001   \n",
            "min       1.000000               0.070000     2.900000      7.000000   \n",
            "25%       3.000000               0.700000     3.940000    774.500000   \n",
            "50%       6.000000               0.750000    15.260000   1039.000000   \n",
            "75%       9.000000               0.800000    24.260000   1252.500000   \n",
            "max      12.000000               0.800000    54.560000  23122.000000   \n",
            "\n",
            "          over_time    incentive    idle_time     idle_men  \\\n",
            "count   1197.000000  1197.000000  1197.000000  1197.000000   \n",
            "mean    4567.460317    38.210526     0.730159     0.369256   \n",
            "std     3348.823563   160.182643    12.709757     3.268987   \n",
            "min        0.000000     0.000000     0.000000     0.000000   \n",
            "25%     1440.000000     0.000000     0.000000     0.000000   \n",
            "50%     3960.000000     0.000000     0.000000     0.000000   \n",
            "75%     6960.000000    50.000000     0.000000     0.000000   \n",
            "max    25920.000000  3600.000000   300.000000    45.000000   \n",
            "\n",
            "       no_of_style_change  no_of_workers  actual_productivity  \n",
            "count         1197.000000    1197.000000          1197.000000  \n",
            "mean             0.150376      34.609858             0.735091  \n",
            "std              0.427848      22.197687             0.174488  \n",
            "min              0.000000       2.000000             0.233705  \n",
            "25%              0.000000       9.000000             0.650307  \n",
            "50%              0.000000      34.000000             0.773333  \n",
            "75%              0.000000      57.000000             0.850253  \n",
            "max              2.000000      89.000000             1.120437  \n"
          ]
        }
      ]
    },
    {
      "cell_type": "code",
      "source": [
        "#Display the category in each column\n",
        "print(\"Quater : \", data['quarter'].unique())\n",
        "print(\"Day : \", data['day'].unique())\n",
        "print(\"Department : \", data['department'].unique())"
      ],
      "metadata": {
        "colab": {
          "base_uri": "https://localhost:8080/"
        },
        "id": "u85D2DJqnVJ2",
        "outputId": "65656c9c-4da1-4a8e-ffd3-33209cd47c5e"
      },
      "execution_count": 24,
      "outputs": [
        {
          "output_type": "stream",
          "name": "stdout",
          "text": [
            "Quater :  ['Quarter1' 'Quarter2' 'Quarter3' 'Quarter4' 'Quarter5']\n",
            "Day :  ['Thursday' 'Saturday' 'Sunday' 'Monday' 'Tuesday' 'Wednesday']\n",
            "Department :  ['sweing' 'finishing']\n"
          ]
        }
      ]
    },
    {
      "cell_type": "code",
      "source": [
        "#Convert the columns into numeric \n",
        "data.replace({'department':{'sweing':0,'finishing':1}, 'day':{'Monday':1 ,'Tuesday':2 ,'Wednesday':3 ,'Thursday': 4 ,'Saturday':5 ,'Sunday': 6 }, 'quarter':{'Quarter1':1, 'Quarter2': 2, 'Quarter3':3, 'Quarter4':4, 'Quarter5':5}}, inplace=True)\n",
        "data.head()"
      ],
      "metadata": {
        "colab": {
          "base_uri": "https://localhost:8080/",
          "height": 270
        },
        "id": "Z1ya1Zuon4u8",
        "outputId": "a8715db4-7090-43a6-c913-79ebd308d6a8"
      },
      "execution_count": 25,
      "outputs": [
        {
          "output_type": "execute_result",
          "data": {
            "text/plain": [
              "       date  quarter  department  day  team  targeted_productivity    smv  \\\n",
              "0  1/1/2015        1           0    4     8                   0.80  26.16   \n",
              "1  1/1/2015        1           1    4     1                   0.75   3.94   \n",
              "2  1/1/2015        1           0    4    11                   0.80  11.41   \n",
              "3  1/1/2015        1           0    4    12                   0.80  11.41   \n",
              "4  1/1/2015        1           0    4     6                   0.80  25.90   \n",
              "\n",
              "      wip  over_time  incentive  idle_time  idle_men  no_of_style_change  \\\n",
              "0  1108.0       7080         98        0.0         0                   0   \n",
              "1     NaN        960          0        0.0         0                   0   \n",
              "2   968.0       3660         50        0.0         0                   0   \n",
              "3   968.0       3660         50        0.0         0                   0   \n",
              "4  1170.0       1920         50        0.0         0                   0   \n",
              "\n",
              "   no_of_workers  actual_productivity  \n",
              "0           59.0             0.940725  \n",
              "1            8.0             0.886500  \n",
              "2           30.5             0.800570  \n",
              "3           30.5             0.800570  \n",
              "4           56.0             0.800382  "
            ],
            "text/html": [
              "\n",
              "  <div id=\"df-d7a10180-883f-4e0b-b4d5-905bb5edd228\">\n",
              "    <div class=\"colab-df-container\">\n",
              "      <div>\n",
              "<style scoped>\n",
              "    .dataframe tbody tr th:only-of-type {\n",
              "        vertical-align: middle;\n",
              "    }\n",
              "\n",
              "    .dataframe tbody tr th {\n",
              "        vertical-align: top;\n",
              "    }\n",
              "\n",
              "    .dataframe thead th {\n",
              "        text-align: right;\n",
              "    }\n",
              "</style>\n",
              "<table border=\"1\" class=\"dataframe\">\n",
              "  <thead>\n",
              "    <tr style=\"text-align: right;\">\n",
              "      <th></th>\n",
              "      <th>date</th>\n",
              "      <th>quarter</th>\n",
              "      <th>department</th>\n",
              "      <th>day</th>\n",
              "      <th>team</th>\n",
              "      <th>targeted_productivity</th>\n",
              "      <th>smv</th>\n",
              "      <th>wip</th>\n",
              "      <th>over_time</th>\n",
              "      <th>incentive</th>\n",
              "      <th>idle_time</th>\n",
              "      <th>idle_men</th>\n",
              "      <th>no_of_style_change</th>\n",
              "      <th>no_of_workers</th>\n",
              "      <th>actual_productivity</th>\n",
              "    </tr>\n",
              "  </thead>\n",
              "  <tbody>\n",
              "    <tr>\n",
              "      <th>0</th>\n",
              "      <td>1/1/2015</td>\n",
              "      <td>1</td>\n",
              "      <td>0</td>\n",
              "      <td>4</td>\n",
              "      <td>8</td>\n",
              "      <td>0.80</td>\n",
              "      <td>26.16</td>\n",
              "      <td>1108.0</td>\n",
              "      <td>7080</td>\n",
              "      <td>98</td>\n",
              "      <td>0.0</td>\n",
              "      <td>0</td>\n",
              "      <td>0</td>\n",
              "      <td>59.0</td>\n",
              "      <td>0.940725</td>\n",
              "    </tr>\n",
              "    <tr>\n",
              "      <th>1</th>\n",
              "      <td>1/1/2015</td>\n",
              "      <td>1</td>\n",
              "      <td>1</td>\n",
              "      <td>4</td>\n",
              "      <td>1</td>\n",
              "      <td>0.75</td>\n",
              "      <td>3.94</td>\n",
              "      <td>NaN</td>\n",
              "      <td>960</td>\n",
              "      <td>0</td>\n",
              "      <td>0.0</td>\n",
              "      <td>0</td>\n",
              "      <td>0</td>\n",
              "      <td>8.0</td>\n",
              "      <td>0.886500</td>\n",
              "    </tr>\n",
              "    <tr>\n",
              "      <th>2</th>\n",
              "      <td>1/1/2015</td>\n",
              "      <td>1</td>\n",
              "      <td>0</td>\n",
              "      <td>4</td>\n",
              "      <td>11</td>\n",
              "      <td>0.80</td>\n",
              "      <td>11.41</td>\n",
              "      <td>968.0</td>\n",
              "      <td>3660</td>\n",
              "      <td>50</td>\n",
              "      <td>0.0</td>\n",
              "      <td>0</td>\n",
              "      <td>0</td>\n",
              "      <td>30.5</td>\n",
              "      <td>0.800570</td>\n",
              "    </tr>\n",
              "    <tr>\n",
              "      <th>3</th>\n",
              "      <td>1/1/2015</td>\n",
              "      <td>1</td>\n",
              "      <td>0</td>\n",
              "      <td>4</td>\n",
              "      <td>12</td>\n",
              "      <td>0.80</td>\n",
              "      <td>11.41</td>\n",
              "      <td>968.0</td>\n",
              "      <td>3660</td>\n",
              "      <td>50</td>\n",
              "      <td>0.0</td>\n",
              "      <td>0</td>\n",
              "      <td>0</td>\n",
              "      <td>30.5</td>\n",
              "      <td>0.800570</td>\n",
              "    </tr>\n",
              "    <tr>\n",
              "      <th>4</th>\n",
              "      <td>1/1/2015</td>\n",
              "      <td>1</td>\n",
              "      <td>0</td>\n",
              "      <td>4</td>\n",
              "      <td>6</td>\n",
              "      <td>0.80</td>\n",
              "      <td>25.90</td>\n",
              "      <td>1170.0</td>\n",
              "      <td>1920</td>\n",
              "      <td>50</td>\n",
              "      <td>0.0</td>\n",
              "      <td>0</td>\n",
              "      <td>0</td>\n",
              "      <td>56.0</td>\n",
              "      <td>0.800382</td>\n",
              "    </tr>\n",
              "  </tbody>\n",
              "</table>\n",
              "</div>\n",
              "      <button class=\"colab-df-convert\" onclick=\"convertToInteractive('df-d7a10180-883f-4e0b-b4d5-905bb5edd228')\"\n",
              "              title=\"Convert this dataframe to an interactive table.\"\n",
              "              style=\"display:none;\">\n",
              "        \n",
              "  <svg xmlns=\"http://www.w3.org/2000/svg\" height=\"24px\"viewBox=\"0 0 24 24\"\n",
              "       width=\"24px\">\n",
              "    <path d=\"M0 0h24v24H0V0z\" fill=\"none\"/>\n",
              "    <path d=\"M18.56 5.44l.94 2.06.94-2.06 2.06-.94-2.06-.94-.94-2.06-.94 2.06-2.06.94zm-11 1L8.5 8.5l.94-2.06 2.06-.94-2.06-.94L8.5 2.5l-.94 2.06-2.06.94zm10 10l.94 2.06.94-2.06 2.06-.94-2.06-.94-.94-2.06-.94 2.06-2.06.94z\"/><path d=\"M17.41 7.96l-1.37-1.37c-.4-.4-.92-.59-1.43-.59-.52 0-1.04.2-1.43.59L10.3 9.45l-7.72 7.72c-.78.78-.78 2.05 0 2.83L4 21.41c.39.39.9.59 1.41.59.51 0 1.02-.2 1.41-.59l7.78-7.78 2.81-2.81c.8-.78.8-2.07 0-2.86zM5.41 20L4 18.59l7.72-7.72 1.47 1.35L5.41 20z\"/>\n",
              "  </svg>\n",
              "      </button>\n",
              "      \n",
              "  <style>\n",
              "    .colab-df-container {\n",
              "      display:flex;\n",
              "      flex-wrap:wrap;\n",
              "      gap: 12px;\n",
              "    }\n",
              "\n",
              "    .colab-df-convert {\n",
              "      background-color: #E8F0FE;\n",
              "      border: none;\n",
              "      border-radius: 50%;\n",
              "      cursor: pointer;\n",
              "      display: none;\n",
              "      fill: #1967D2;\n",
              "      height: 32px;\n",
              "      padding: 0 0 0 0;\n",
              "      width: 32px;\n",
              "    }\n",
              "\n",
              "    .colab-df-convert:hover {\n",
              "      background-color: #E2EBFA;\n",
              "      box-shadow: 0px 1px 2px rgba(60, 64, 67, 0.3), 0px 1px 3px 1px rgba(60, 64, 67, 0.15);\n",
              "      fill: #174EA6;\n",
              "    }\n",
              "\n",
              "    [theme=dark] .colab-df-convert {\n",
              "      background-color: #3B4455;\n",
              "      fill: #D2E3FC;\n",
              "    }\n",
              "\n",
              "    [theme=dark] .colab-df-convert:hover {\n",
              "      background-color: #434B5C;\n",
              "      box-shadow: 0px 1px 3px 1px rgba(0, 0, 0, 0.15);\n",
              "      filter: drop-shadow(0px 1px 2px rgba(0, 0, 0, 0.3));\n",
              "      fill: #FFFFFF;\n",
              "    }\n",
              "  </style>\n",
              "\n",
              "      <script>\n",
              "        const buttonEl =\n",
              "          document.querySelector('#df-d7a10180-883f-4e0b-b4d5-905bb5edd228 button.colab-df-convert');\n",
              "        buttonEl.style.display =\n",
              "          google.colab.kernel.accessAllowed ? 'block' : 'none';\n",
              "\n",
              "        async function convertToInteractive(key) {\n",
              "          const element = document.querySelector('#df-d7a10180-883f-4e0b-b4d5-905bb5edd228');\n",
              "          const dataTable =\n",
              "            await google.colab.kernel.invokeFunction('convertToInteractive',\n",
              "                                                     [key], {});\n",
              "          if (!dataTable) return;\n",
              "\n",
              "          const docLinkHtml = 'Like what you see? Visit the ' +\n",
              "            '<a target=\"_blank\" href=https://colab.research.google.com/notebooks/data_table.ipynb>data table notebook</a>'\n",
              "            + ' to learn more about interactive tables.';\n",
              "          element.innerHTML = '';\n",
              "          dataTable['output_type'] = 'display_data';\n",
              "          await google.colab.output.renderOutput(dataTable, element);\n",
              "          const docLink = document.createElement('div');\n",
              "          docLink.innerHTML = docLinkHtml;\n",
              "          element.appendChild(docLink);\n",
              "        }\n",
              "      </script>\n",
              "    </div>\n",
              "  </div>\n",
              "  "
            ]
          },
          "metadata": {},
          "execution_count": 25
        }
      ]
    },
    {
      "cell_type": "code",
      "source": [
        "# Remove unwanted column\n",
        "data.drop(['date'], axis=1, inplace= True)"
      ],
      "metadata": {
        "id": "GaVYplrIpLWH"
      },
      "execution_count": 26,
      "outputs": []
    },
    {
      "cell_type": "code",
      "source": [
        "# Inspect for missing values\n",
        "print(data.isna().sum())"
      ],
      "metadata": {
        "colab": {
          "base_uri": "https://localhost:8080/"
        },
        "id": "Yzy6_M6_pQWF",
        "outputId": "2ff8a7bb-e008-4960-dfc9-ef49603ec7a6"
      },
      "execution_count": 27,
      "outputs": [
        {
          "output_type": "stream",
          "name": "stdout",
          "text": [
            "quarter                    0\n",
            "department                 0\n",
            "day                        0\n",
            "team                       0\n",
            "targeted_productivity      0\n",
            "smv                        0\n",
            "wip                      506\n",
            "over_time                  0\n",
            "incentive                  0\n",
            "idle_time                  0\n",
            "idle_men                   0\n",
            "no_of_style_change         0\n",
            "no_of_workers              0\n",
            "actual_productivity        0\n",
            "dtype: int64\n"
          ]
        }
      ]
    },
    {
      "cell_type": "code",
      "source": [
        "#Inpute missing values\n",
        "\n",
        "imputer = SimpleImputer( strategy='constant', fill_value=0)\n",
        "data['wip'] = pd.Series(imputer.fit_transform(np.array(data['wip']).reshape(1, -1)).reshape(-1))"
      ],
      "metadata": {
        "id": "YxaTYA_8qD4-"
      },
      "execution_count": 29,
      "outputs": []
    },
    {
      "cell_type": "code",
      "source": [
        "#convert the new column data into categorical\n",
        "\n",
        "data[['quarter', 'department', 'day', 'team']] = data[['quarter', 'department', 'day', 'team']].apply(lambda x: x.astype(\"category\"))\n",
        "\n",
        "print(data.info())"
      ],
      "metadata": {
        "colab": {
          "base_uri": "https://localhost:8080/"
        },
        "id": "a6x8jDAjqYem",
        "outputId": "c12a323b-098c-406e-ddf8-0134730c9217"
      },
      "execution_count": 31,
      "outputs": [
        {
          "output_type": "stream",
          "name": "stdout",
          "text": [
            "<class 'pandas.core.frame.DataFrame'>\n",
            "RangeIndex: 1197 entries, 0 to 1196\n",
            "Data columns (total 14 columns):\n",
            " #   Column                 Non-Null Count  Dtype   \n",
            "---  ------                 --------------  -----   \n",
            " 0   quarter                1197 non-null   category\n",
            " 1   department             1197 non-null   category\n",
            " 2   day                    1197 non-null   category\n",
            " 3   team                   1197 non-null   category\n",
            " 4   targeted_productivity  1197 non-null   float64 \n",
            " 5   smv                    1197 non-null   float64 \n",
            " 6   wip                    1197 non-null   float64 \n",
            " 7   over_time              1197 non-null   int64   \n",
            " 8   incentive              1197 non-null   int64   \n",
            " 9   idle_time              1197 non-null   float64 \n",
            " 10  idle_men               1197 non-null   int64   \n",
            " 11  no_of_style_change     1197 non-null   int64   \n",
            " 12  no_of_workers          1197 non-null   float64 \n",
            " 13  actual_productivity    1197 non-null   float64 \n",
            "dtypes: category(4), float64(6), int64(4)\n",
            "memory usage: 99.2 KB\n",
            "None\n"
          ]
        }
      ]
    },
    {
      "cell_type": "code",
      "source": [
        "#Split the data into features and labels\n",
        "features = data.drop('actual_productivity', axis=1)\n",
        "labels = data.actual_productivity"
      ],
      "metadata": {
        "id": "9bTnu4waqttA"
      },
      "execution_count": 32,
      "outputs": []
    },
    {
      "cell_type": "code",
      "source": [
        "##Perform a train test split to obtain training and testing dataset\n",
        "SEED = 12345\n",
        "X_train, X_test, y_train, y_test = train_test_split(features, labels, test_size=0.2, random_state=SEED)"
      ],
      "metadata": {
        "id": "J2b28hI5rEMm"
      },
      "execution_count": 33,
      "outputs": []
    },
    {
      "cell_type": "code",
      "source": [
        "#Data Normalization\n",
        "from sklearn.preprocessing import StandardScaler\n",
        "standardizer = StandardScaler()\n",
        "standardizer.fit(X_train)\n",
        "X_train = standardizer.transform(X_train)\n",
        "X_test = standardizer.transform(X_test)"
      ],
      "metadata": {
        "id": "y_4xswx5rI7t"
      },
      "execution_count": 34,
      "outputs": []
    },
    {
      "cell_type": "code",
      "source": [
        "#Start with input layer\n",
        "nIn = X_train.shape[1]\n",
        "inputs = keras.Input(shape=(nIn,))\n",
        "h1 = layers.Dense(128, activation='elu')\n",
        "h2 = layers.Dense(64, activation='elu')\n",
        "h3 = layers.Dense(32, activation='elu')\n",
        "out_layer = layers.Dense(1)\n",
        "\n",
        "#Use Functional API to link layers together\n",
        "x = h1(inputs)\n",
        "x = h2(x)\n",
        "x = h3(x)\n",
        "outputs = out_layer(x)\n",
        "\n",
        "#Create a model by using the model object\n",
        "model = keras.Model(inputs=inputs, outputs=outputs)\n",
        "model.summary()"
      ],
      "metadata": {
        "colab": {
          "base_uri": "https://localhost:8080/"
        },
        "id": "F9q2iiCHrXoH",
        "outputId": "99402fd4-7310-4e1f-a255-c0dedc139378"
      },
      "execution_count": 35,
      "outputs": [
        {
          "output_type": "stream",
          "name": "stdout",
          "text": [
            "Model: \"model\"\n",
            "_________________________________________________________________\n",
            " Layer (type)                Output Shape              Param #   \n",
            "=================================================================\n",
            " input_1 (InputLayer)        [(None, 13)]              0         \n",
            "                                                                 \n",
            " dense (Dense)               (None, 128)               1792      \n",
            "                                                                 \n",
            " dense_1 (Dense)             (None, 64)                8256      \n",
            "                                                                 \n",
            " dense_2 (Dense)             (None, 32)                2080      \n",
            "                                                                 \n",
            " dense_3 (Dense)             (None, 1)                 33        \n",
            "                                                                 \n",
            "=================================================================\n",
            "Total params: 12,161\n",
            "Trainable params: 12,161\n",
            "Non-trainable params: 0\n",
            "_________________________________________________________________\n"
          ]
        }
      ]
    },
    {
      "cell_type": "code",
      "source": [
        "#Compile model\n",
        "model.compile(optimizer='adam', loss='mse', metrics=['mae'])"
      ],
      "metadata": {
        "id": "IcLtbMArroVY"
      },
      "execution_count": 36,
      "outputs": []
    },
    {
      "cell_type": "code",
      "source": [
        "#Model Training\n",
        "BATCH_SIZE = 32\n",
        "EPOCHS = 30\n",
        "\n",
        "history = model.fit(X_train, y_train, validation_data=(X_test, y_test), batch_size=BATCH_SIZE, epochs=EPOCHS)"
      ],
      "metadata": {
        "colab": {
          "base_uri": "https://localhost:8080/"
        },
        "id": "z8o3mURsrvB1",
        "outputId": "fbec4fd9-1b43-4bcf-bbdd-4f8e52f8484b"
      },
      "execution_count": 37,
      "outputs": [
        {
          "output_type": "stream",
          "name": "stdout",
          "text": [
            "Epoch 1/30\n",
            "30/30 [==============================] - 1s 9ms/step - loss: 0.1653 - mae: 0.2904 - val_loss: 0.0451 - val_mae: 0.1526\n",
            "Epoch 2/30\n",
            "30/30 [==============================] - 0s 4ms/step - loss: 0.0323 - mae: 0.1391 - val_loss: 0.0299 - val_mae: 0.1214\n",
            "Epoch 3/30\n",
            "30/30 [==============================] - 0s 3ms/step - loss: 0.0252 - mae: 0.1195 - val_loss: 0.0290 - val_mae: 0.1196\n",
            "Epoch 4/30\n",
            "30/30 [==============================] - 0s 4ms/step - loss: 0.0234 - mae: 0.1143 - val_loss: 0.0260 - val_mae: 0.1154\n",
            "Epoch 5/30\n",
            "30/30 [==============================] - 0s 3ms/step - loss: 0.0239 - mae: 0.1147 - val_loss: 0.0308 - val_mae: 0.1297\n",
            "Epoch 6/30\n",
            "30/30 [==============================] - 0s 3ms/step - loss: 0.0215 - mae: 0.1075 - val_loss: 0.0289 - val_mae: 0.1203\n",
            "Epoch 7/30\n",
            "30/30 [==============================] - 0s 4ms/step - loss: 0.0215 - mae: 0.1084 - val_loss: 0.0286 - val_mae: 0.1171\n",
            "Epoch 8/30\n",
            "30/30 [==============================] - 0s 3ms/step - loss: 0.0212 - mae: 0.1062 - val_loss: 0.0234 - val_mae: 0.1072\n",
            "Epoch 9/30\n",
            "30/30 [==============================] - 0s 4ms/step - loss: 0.0200 - mae: 0.1032 - val_loss: 0.0265 - val_mae: 0.1096\n",
            "Epoch 10/30\n",
            "30/30 [==============================] - 0s 4ms/step - loss: 0.0202 - mae: 0.1035 - val_loss: 0.0233 - val_mae: 0.1092\n",
            "Epoch 11/30\n",
            "30/30 [==============================] - 0s 3ms/step - loss: 0.0201 - mae: 0.1051 - val_loss: 0.0266 - val_mae: 0.1161\n",
            "Epoch 12/30\n",
            "30/30 [==============================] - 0s 3ms/step - loss: 0.0213 - mae: 0.1032 - val_loss: 0.0232 - val_mae: 0.1089\n",
            "Epoch 13/30\n",
            "30/30 [==============================] - 0s 4ms/step - loss: 0.0194 - mae: 0.1007 - val_loss: 0.0266 - val_mae: 0.1165\n",
            "Epoch 14/30\n",
            "30/30 [==============================] - 0s 3ms/step - loss: 0.0200 - mae: 0.1010 - val_loss: 0.0247 - val_mae: 0.1058\n",
            "Epoch 15/30\n",
            "30/30 [==============================] - 0s 3ms/step - loss: 0.0235 - mae: 0.1045 - val_loss: 0.0273 - val_mae: 0.1087\n",
            "Epoch 16/30\n",
            "30/30 [==============================] - 0s 4ms/step - loss: 0.0199 - mae: 0.0991 - val_loss: 0.0246 - val_mae: 0.1144\n",
            "Epoch 17/30\n",
            "30/30 [==============================] - 0s 4ms/step - loss: 0.0182 - mae: 0.0964 - val_loss: 0.0241 - val_mae: 0.1043\n",
            "Epoch 18/30\n",
            "30/30 [==============================] - 0s 4ms/step - loss: 0.0176 - mae: 0.0947 - val_loss: 0.0215 - val_mae: 0.0999\n",
            "Epoch 19/30\n",
            "30/30 [==============================] - 0s 4ms/step - loss: 0.0169 - mae: 0.0928 - val_loss: 0.0220 - val_mae: 0.1049\n",
            "Epoch 20/30\n",
            "30/30 [==============================] - 0s 4ms/step - loss: 0.0174 - mae: 0.0937 - val_loss: 0.0225 - val_mae: 0.1054\n",
            "Epoch 21/30\n",
            "30/30 [==============================] - 0s 4ms/step - loss: 0.0174 - mae: 0.0943 - val_loss: 0.0221 - val_mae: 0.1041\n",
            "Epoch 22/30\n",
            "30/30 [==============================] - 0s 3ms/step - loss: 0.0185 - mae: 0.1019 - val_loss: 0.0234 - val_mae: 0.1058\n",
            "Epoch 23/30\n",
            "30/30 [==============================] - 0s 3ms/step - loss: 0.0191 - mae: 0.1004 - val_loss: 0.0217 - val_mae: 0.1017\n",
            "Epoch 24/30\n",
            "30/30 [==============================] - 0s 3ms/step - loss: 0.0180 - mae: 0.0998 - val_loss: 0.0249 - val_mae: 0.1115\n",
            "Epoch 25/30\n",
            "30/30 [==============================] - 0s 3ms/step - loss: 0.0174 - mae: 0.0936 - val_loss: 0.0228 - val_mae: 0.1035\n",
            "Epoch 26/30\n",
            "30/30 [==============================] - 0s 3ms/step - loss: 0.0173 - mae: 0.0921 - val_loss: 0.0230 - val_mae: 0.1044\n",
            "Epoch 27/30\n",
            "30/30 [==============================] - 0s 4ms/step - loss: 0.0161 - mae: 0.0886 - val_loss: 0.0209 - val_mae: 0.0971\n",
            "Epoch 28/30\n",
            "30/30 [==============================] - 0s 3ms/step - loss: 0.0172 - mae: 0.0932 - val_loss: 0.0219 - val_mae: 0.1020\n",
            "Epoch 29/30\n",
            "30/30 [==============================] - 0s 3ms/step - loss: 0.0201 - mae: 0.1037 - val_loss: 0.0228 - val_mae: 0.1079\n",
            "Epoch 30/30\n",
            "30/30 [==============================] - 0s 3ms/step - loss: 0.0170 - mae: 0.0920 - val_loss: 0.0206 - val_mae: 0.1006\n"
          ]
        }
      ]
    },
    {
      "cell_type": "code",
      "source": [
        "#Visualize the result of model training\n",
        "\n",
        "import matplotlib.pyplot as plt\n",
        "\n",
        "training_loss = history.history['loss']\n",
        "val_loss = history.history['val_loss']\n",
        "training_acc = history.history['mae']\n",
        "val_acc = history.history['val_mae']\n",
        "epochs_x_axis = history.epoch\n",
        "\n",
        "plt.plot(epochs_x_axis , training_loss, label='Training Loss')\n",
        "plt.plot(epochs_x_axis, val_loss, label='Validation Loss')\n",
        "plt.title(\"Training vs Validation Loss\") \n",
        "plt.legend()\n",
        "plt.figure()\n",
        "\n",
        "plt.plot(epochs_x_axis, training_acc, label='Training MAE')\n",
        "plt.plot(epochs_x_axis, val_acc, label='Validation MAE')\n",
        "plt.title('Training vs Validation MAE')\n",
        "plt.legend()\n",
        "plt.figure()\n",
        "\n",
        "plt.show()"
      ],
      "metadata": {
        "colab": {
          "base_uri": "https://localhost:8080/",
          "height": 562
        },
        "id": "Q8HR93DYr85i",
        "outputId": "7ff35b21-1bb7-4e84-c1d7-5e37d7fc9fea"
      },
      "execution_count": 40,
      "outputs": [
        {
          "output_type": "display_data",
          "data": {
            "text/plain": [
              "<Figure size 432x288 with 1 Axes>"
            ],
            "image/png": "[encoded data removed]"
          },
          "metadata": {
            "needs_background": "light"
          }
        },
        {
          "output_type": "display_data",
          "data": {
            "text/plain": [
              "<Figure size 432x288 with 1 Axes>"
            ],
            "image/png": "[encoded data removed]"
          },
          "metadata": {
            "needs_background": "light"
          }
        },
        {
          "output_type": "display_data",
          "data": {
            "text/plain": [
              "<Figure size 432x288 with 0 Axes>"
            ]
          },
          "metadata": {}
        }
      ]
    },
    {
      "cell_type": "code",
      "source": [
        "#Make prediction\n",
        "predictions = model.predict(X_test)\n",
        "pred_vs_label = np.concatenate((predictions,np.expand_dims(y_test, axis=1)),axis=1)\n",
        "pred_vs_label = pd.DataFrame(data=pred_vs_label, columns=['prediction', 'labels'])\n",
        "print(pred_vs_label)"
      ],
      "metadata": {
        "colab": {
          "base_uri": "https://localhost:8080/"
        },
        "id": "YH8r0AzDsvd2",
        "outputId": "65d19e38-9ad5-4a43-b545-36feeb540015"
      },
      "execution_count": 41,
      "outputs": [
        {
          "output_type": "stream",
          "name": "stdout",
          "text": [
            "     prediction    labels\n",
            "0      0.658045  0.734646\n",
            "1      0.689249  0.664875\n",
            "2      0.839826  0.850569\n",
            "3      0.748588  0.800031\n",
            "4      0.738876  0.800077\n",
            "..          ...       ...\n",
            "235    0.649724  0.700614\n",
            "236    0.699313  0.870581\n",
            "237    0.724883  0.283958\n",
            "238    0.723781  0.861875\n",
            "239    0.776017  0.906667\n",
            "\n",
            "[240 rows x 2 columns]\n"
          ]
        }
      ]
    },
    {
      "cell_type": "code",
      "source": [
        "#Store the prediction data on drive\n",
        "csv_file_prediction = \"/content/gdrive/MyDrive/Colab Notebooks/prediction.csv\"\n",
        "export_csv = pred_vs_label.to_csv (csv_file_prediction, index = None, header=True)"
      ],
      "metadata": {
        "id": "-wZdUk7stjlu"
      },
      "execution_count": 43,
      "outputs": []
    }
  ]
}